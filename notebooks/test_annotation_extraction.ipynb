{
 "cells": [
  {
   "cell_type": "markdown",
   "metadata": {},
   "source": [
    "# Test Annotation Extraction from DOCX\n",
    "\n",
    "This notebook tests the `extract_annotations_from_docx` function from the annotation module."
   ]
  },
  {
   "cell_type": "code",
   "execution_count": null,
   "metadata": {},
   "outputs": [],
   "source": [
    "import sys\n",
    "sys.path.append('../src')\n",
    "from williamtoolbox.annotation import extract_annotations_from_docx"
   ]
  },
  {
   "cell_type": "code",
   "execution_count": null,
   "metadata": {},
   "outputs": [],
   "source": [
    "# Path to a sample DOCX file with annotations\n",
    "docx_path = '../test_data/sample_annotated.docx'\n",
    "\n",
    "# Extract annotations\n",
    "annotations = extract_annotations_from_docx(docx_path)\n",
    "\n",
    "# Display the extracted annotations\n",
    "for annotation in annotations:\n",
    "    print(f\"Text: {annotation['text']}\")\n",
    "    print(f\"Comment: {annotation['comment']}\")\n",
    "    print(\"-\" * 40)"
   ]
  },
  {
   "cell_type": "code",
   "execution_count": null,
   "metadata": {},
   "outputs": [],
   "source": [
    "# Test with a non-existent file\n",
    "try:\n",
    "    extract_annotations_from_docx('non_existent.docx')\n",
    "except Exception as e:\n",
    "    print(f\"Error: {str(e)}\")"
   ]
  },
  {
   "cell_type": "code",
   "execution_count": null,
   "metadata": {},
   "outputs": [],
   "source": [
    "# Test with a non-DOCX file\n",
    "try:\n",
    "    extract_annotations_from_docx('../test_data/sample.txt')\n",
    "except Exception as e:\n",
    "    print(f\"Error: {str(e)}\")"
   ]
  }
 ],
 "metadata": {
  "kernelspec": {
   "display_name": "Python 3",
   "language": "python",
   "name": "python3"
  },
  "language_info": {
   "codemirror_mode": {
    "name": "ipython",
    "version": 3
   },
   "file_extension": ".py",
   "mimetype": "text/x-python",
   "name": "python",
   "nbconvert_exporter": "python",
   "pygments_lexer": "ipython3",
   "version": "3.9.0"
  }
 },
 "nbformat": 4,
 "nbformat_minor": 4
}