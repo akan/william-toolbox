{
 "cells": [
  {
   "cell_type": "markdown",
   "metadata": {},
   "source": [
    "# Test Annotation Extraction from DOCX\n",
    "\n",
    "This notebook tests the `extract_annotations_from_docx` function from the annotation module."
   ]
  },
  {
   "cell_type": "code",
   "execution_count": null,
   "metadata": {},
   "outputs": [],
   "source": [
    "from williamtoolbox.annotation import extract_annotations_from_docx\n",
    "# Path to a sample DOCX file with annotations\n",
    "docx_path = '/Users/allwefantasy/Downloads/论文/1130 论文初稿【段爽】-已批注.docx'\n",
    "\n",
    "# Extract annotations\n",
    "annotations = extract_annotations_from_docx(docx_path)\n",
    "\n",
    "# Display the extracted annotations\n",
    "for annotation in annotations:\n",
    "    print(f\"Text: {annotation['text']}\")\n",
    "    print(f\"Comment: {annotation['comment']}\")\n",
    "    print(\"-\" * 40)"
   ]
  }
 ],
 "metadata": {
  "kernelspec": {
   "display_name": "Python 3",
   "language": "python",
   "name": "python3"
  },
  "language_info": {
   "codemirror_mode": {
    "name": "ipython",
    "version": 3
   },
   "file_extension": ".py",
   "mimetype": "text/x-python",
   "name": "python",
   "nbconvert_exporter": "python",
   "pygments_lexer": "ipython3",
   "version": "3.10.11"
  }
 },
 "nbformat": 4,
 "nbformat_minor": 4
}
